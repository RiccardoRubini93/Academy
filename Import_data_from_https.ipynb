{
 "cells": [
  {
   "cell_type": "code",
   "execution_count": 7,
   "id": "7bdda188-f127-475d-bf57-8132ed1d85a8",
   "metadata": {},
   "outputs": [],
   "source": [
    "import os\n",
    "import requests"
   ]
  },
  {
   "cell_type": "code",
   "execution_count": 21,
   "id": "950abe82-5396-4f42-9374-8dc16d3e01a7",
   "metadata": {
    "tags": []
   },
   "outputs": [],
   "source": [
    "url = 'https://www.gutenberg.org/files/28885/28885-8.txt'"
   ]
  },
  {
   "cell_type": "code",
   "execution_count": 22,
   "id": "1dbb2ea2-0dd6-4760-b18b-f77ba0a0414f",
   "metadata": {},
   "outputs": [],
   "source": [
    "r = requests.get(url)"
   ]
  },
  {
   "cell_type": "code",
   "execution_count": 28,
   "id": "0cd97176-eb69-495a-baa9-9711adfdff2a",
   "metadata": {},
   "outputs": [
    {
     "data": {
      "text/plain": [
       "bytes"
      ]
     },
     "execution_count": 28,
     "metadata": {},
     "output_type": "execute_result"
    }
   ],
   "source": [
    "type(r.content)"
   ]
  },
  {
   "cell_type": "markdown",
   "id": "e5499ca7-3803-4ea8-8223-fec9e98ed680",
   "metadata": {},
   "source": [
    "## Ex:\n",
    "\n",
    " - step 1): get file\n",
    " - step 2):convert file byte to string\n",
    " - step 3) count wowels in file"
   ]
  },
  {
   "cell_type": "code",
   "execution_count": 29,
   "id": "8f81b1a7-1a20-478b-8c72-7a48151b1a4c",
   "metadata": {
    "tags": []
   },
   "outputs": [],
   "source": [
    "def count_vowels(input_string,vocals='aeiou'):\n",
    "    return {v:input_string.lower().count(v) for v in vocals}"
   ]
  },
  {
   "cell_type": "code",
   "execution_count": 31,
   "id": "60f71ce0-215f-4f26-a75f-7774d48ab9f9",
   "metadata": {},
   "outputs": [
    {
     "data": {
      "text/plain": [
       "{'a': 2, 'e': 3, 'i': 4, 'o': 3, 'u': 1}"
      ]
     },
     "execution_count": 31,
     "metadata": {},
     "output_type": "execute_result"
    }
   ],
   "source": [
    "#test count_vovwels function \n",
    "count_vowels('aaeeeiiiiooou') # --> function is ok"
   ]
  },
  {
   "cell_type": "code",
   "execution_count": 32,
   "id": "a4e17e85-6b03-44ab-96c2-ba9a620706f6",
   "metadata": {},
   "outputs": [
    {
     "data": {
      "text/plain": [
       "bytes"
      ]
     },
     "execution_count": 32,
     "metadata": {},
     "output_type": "execute_result"
    }
   ],
   "source": [
    "type(r.content)"
   ]
  },
  {
   "cell_type": "code",
   "execution_count": 33,
   "id": "c1e869da-87dc-45aa-b511-e0163f989efc",
   "metadata": {},
   "outputs": [],
   "source": [
    "#andiamo a convertire bytes to string \n",
    "\n",
    "input_string = r.content.decode('ISO-8859-1')"
   ]
  },
  {
   "cell_type": "code",
   "execution_count": 35,
   "id": "8ef75d93-2d92-4f62-9617-18a399492ebf",
   "metadata": {},
   "outputs": [],
   "source": [
    "vocal_count = count_vowels(input_string)"
   ]
  },
  {
   "cell_type": "code",
   "execution_count": 36,
   "id": "0b64eb31-0e6d-408e-ab02-47e8a40f090a",
   "metadata": {},
   "outputs": [
    {
     "data": {
      "text/plain": [
       "{'a': 10196, 'e': 15877, 'i': 8950, 'o': 9784, 'u': 4135}"
      ]
     },
     "execution_count": 36,
     "metadata": {},
     "output_type": "execute_result"
    }
   ],
   "source": [
    "vocal_count"
   ]
  },
  {
   "cell_type": "markdown",
   "id": "1fff6902-e18f-46cc-9335-baf85d00e6b5",
   "metadata": {},
   "source": [
    "### write to file "
   ]
  },
  {
   "cell_type": "code",
   "execution_count": 47,
   "id": "f78b1ee0-61ec-4aac-baa5-8c67947c3671",
   "metadata": {},
   "outputs": [],
   "source": [
    "file_name = 'my_file_test.txt'\n",
    "\n",
    "with open(file_name,'w',encoding='utf-8') as f:\n",
    "    f.write('la mela è rossa')\n",
    "f.close()"
   ]
  },
  {
   "cell_type": "code",
   "execution_count": 49,
   "id": "5ec55d01-0138-4c82-a478-8c1398d7fc10",
   "metadata": {
    "tags": []
   },
   "outputs": [],
   "source": [
    "#to append to an existing file \n",
    "\n",
    "with open(file_name,'a') as f:\n",
    "    f.write('test')\n",
    "    f.write('\\n')\n",
    "f.close()"
   ]
  },
  {
   "cell_type": "code",
   "execution_count": 51,
   "id": "c9cd02d0-338f-40cf-bf2d-4b6cc0a21864",
   "metadata": {},
   "outputs": [],
   "source": [
    "with open('writing_bytes.txt','wb') as f:\n",
    "    f.write(r.content)\n",
    "f.close()"
   ]
  },
  {
   "cell_type": "code",
   "execution_count": null,
   "id": "2780eb54-2014-4abb-900b-ffc3dfbcb9a1",
   "metadata": {},
   "outputs": [],
   "source": []
  }
 ],
 "metadata": {
  "kernelspec": {
   "display_name": "Python 3 (ipykernel)",
   "language": "python",
   "name": "python3"
  },
  "language_info": {
   "codemirror_mode": {
    "name": "ipython",
    "version": 3
   },
   "file_extension": ".py",
   "mimetype": "text/x-python",
   "name": "python",
   "nbconvert_exporter": "python",
   "pygments_lexer": "ipython3",
   "version": "3.9.12"
  }
 },
 "nbformat": 4,
 "nbformat_minor": 5
}

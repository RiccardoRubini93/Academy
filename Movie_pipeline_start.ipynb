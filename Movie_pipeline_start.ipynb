{
 "cells": [
  {
   "cell_type": "markdown",
   "id": "46fa7b63-3ec6-4932-aac4-494e7ce6b877",
   "metadata": {},
   "source": [
    "## Write a pipeline for the file metadata movie"
   ]
  },
  {
   "cell_type": "markdown",
   "id": "d25cb38b-e7be-45ad-b130-2ed6bbd85a80",
   "metadata": {},
   "source": [
    "### step 1 : \n",
    "    dowload raw data file from 'https://raw.githubusercontent.com/RiccardoRubini93/Academy/main/movie_metadata_raw.csv' and save it in a folder call Raw/day=date/\n",
    "    \n",
    "### step 2:\n",
    "    load raw data file in pandas dataframe perform data exploration and cleaning and save into \n",
    "    Clean/day=date with name movie_metadata_clean.csv\n",
    "\n",
    "### step 3:\n",
    "    load clead data perform aggregation and save into \n",
    "    layer_2/day=date with name movie_metadata_aggergated.csv"
   ]
  },
  {
   "cell_type": "code",
   "execution_count": null,
   "id": "1da7b81a-9e04-42f8-be9a-abb6148bf291",
   "metadata": {},
   "outputs": [],
   "source": []
  }
 ],
 "metadata": {
  "kernelspec": {
   "display_name": "Python 3 (ipykernel)",
   "language": "python",
   "name": "python3"
  },
  "language_info": {
   "codemirror_mode": {
    "name": "ipython",
    "version": 3
   },
   "file_extension": ".py",
   "mimetype": "text/x-python",
   "name": "python",
   "nbconvert_exporter": "python",
   "pygments_lexer": "ipython3",
   "version": "3.9.12"
  }
 },
 "nbformat": 4,
 "nbformat_minor": 5
}
